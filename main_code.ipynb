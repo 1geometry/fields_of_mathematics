{
 "cells": [
  {
   "cell_type": "markdown",
   "metadata": {},
   "source": [
    "# Classification of Branches of Mathematics using Wikipedia Links\n",
    "\n",
    "\n",
    "## Explanation of Dataset\n",
    "The data is open to the public via University of California Irvine's Machine Learning Repository website in the form of .json file. ([link to the dataset](https://archive.ics.uci.edu/ml/datasets/Wikipedia+Math+Essentials)) And the data is given in the form of dictionary file of length 735. The first 4 keys are `edges`, `weights`, `node_ids`, `time_periods`. The `edges` is the list of tuples, where each tuple is in the form of list of two nodes which are connected. Here, the connection implies whether there is a link from one node to another or vice versa, so the graph is not directed. The first component of a tuple is always samller than the seconde value of the tuple and there is a total of 27079 edges. `weights` is list of numbers indicating how many links in between the two set of nodes in `edges`. So, this indicates the strength of the connection. `node_ids` provides a dictionary with keys for the name of the Wikipedia website and values for the corresponding node indices. For example, `Mathematics` corresponds to `0` and `Function (mathematics)` is `70`. The length of the `node_ids` is 1068, so a total of 1068 webpages is recorded. The key `time_periods` is just one number 731 since the following 731 keys contains the information of number of visits of each site for 731 days from March 2019 to March 2021."
   ]
  },
  {
   "cell_type": "markdown",
   "metadata": {},
   "source": [
    "## Loading the dataset"
   ]
  },
  {
   "cell_type": "code",
   "execution_count": 1062,
   "metadata": {},
   "outputs": [],
   "source": [
    "import json\n",
    "import numpy as np\n",
    "from matplotlib import pyplot as plt\n",
    "\n",
    "with open(\"data.json\", 'r') as json_file:\n",
    "    data = json.load(json_file)"
   ]
  },
  {
   "cell_type": "code",
   "execution_count": 1063,
   "metadata": {
    "scrolled": true
   },
   "outputs": [
    {
     "name": "stdout",
     "output_type": "stream",
     "text": [
      "Type of the data is <class 'dict'> and its length is 735\n"
     ]
    }
   ],
   "source": [
    "# Check the data type and the length\n",
    "print(\"Type of the data is {} and its length is {}\".format(type(data), len(data)))"
   ]
  },
  {
   "cell_type": "code",
   "execution_count": 1064,
   "metadata": {},
   "outputs": [
    {
     "data": {
      "text/plain": [
       "dict_keys(['edges', 'weights', 'node_ids', 'time_periods', '0', '1', '2', '3', '4', '5', '6', '7', '8', '9', '10', '11', '12', '13', '14', '15', '16', '17', '18', '19', '20', '21', '22', '23', '24', '25', '26', '27', '28', '29', '30', '31', '32', '33', '34', '35', '36', '37', '38', '39', '40', '41', '42', '43', '44', '45', '46', '47', '48', '49', '50', '51', '52', '53', '54', '55', '56', '57', '58', '59', '60', '61', '62', '63', '64', '65', '66', '67', '68', '69', '70', '71', '72', '73', '74', '75', '76', '77', '78', '79', '80', '81', '82', '83', '84', '85', '86', '87', '88', '89', '90', '91', '92', '93', '94', '95', '96', '97', '98', '99', '100', '101', '102', '103', '104', '105', '106', '107', '108', '109', '110', '111', '112', '113', '114', '115', '116', '117', '118', '119', '120', '121', '122', '123', '124', '125', '126', '127', '128', '129', '130', '131', '132', '133', '134', '135', '136', '137', '138', '139', '140', '141', '142', '143', '144', '145', '146', '147', '148', '149', '150', '151', '152', '153', '154', '155', '156', '157', '158', '159', '160', '161', '162', '163', '164', '165', '166', '167', '168', '169', '170', '171', '172', '173', '174', '175', '176', '177', '178', '179', '180', '181', '182', '183', '184', '185', '186', '187', '188', '189', '190', '191', '192', '193', '194', '195', '196', '197', '198', '199', '200', '201', '202', '203', '204', '205', '206', '207', '208', '209', '210', '211', '212', '213', '214', '215', '216', '217', '218', '219', '220', '221', '222', '223', '224', '225', '226', '227', '228', '229', '230', '231', '232', '233', '234', '235', '236', '237', '238', '239', '240', '241', '242', '243', '244', '245', '246', '247', '248', '249', '250', '251', '252', '253', '254', '255', '256', '257', '258', '259', '260', '261', '262', '263', '264', '265', '266', '267', '268', '269', '270', '271', '272', '273', '274', '275', '276', '277', '278', '279', '280', '281', '282', '283', '284', '285', '286', '287', '288', '289', '290', '291', '292', '293', '294', '295', '296', '297', '298', '299', '300', '301', '302', '303', '304', '305', '306', '307', '308', '309', '310', '311', '312', '313', '314', '315', '316', '317', '318', '319', '320', '321', '322', '323', '324', '325', '326', '327', '328', '329', '330', '331', '332', '333', '334', '335', '336', '337', '338', '339', '340', '341', '342', '343', '344', '345', '346', '347', '348', '349', '350', '351', '352', '353', '354', '355', '356', '357', '358', '359', '360', '361', '362', '363', '364', '365', '366', '367', '368', '369', '370', '371', '372', '373', '374', '375', '376', '377', '378', '379', '380', '381', '382', '383', '384', '385', '386', '387', '388', '389', '390', '391', '392', '393', '394', '395', '396', '397', '398', '399', '400', '401', '402', '403', '404', '405', '406', '407', '408', '409', '410', '411', '412', '413', '414', '415', '416', '417', '418', '419', '420', '421', '422', '423', '424', '425', '426', '427', '428', '429', '430', '431', '432', '433', '434', '435', '436', '437', '438', '439', '440', '441', '442', '443', '444', '445', '446', '447', '448', '449', '450', '451', '452', '453', '454', '455', '456', '457', '458', '459', '460', '461', '462', '463', '464', '465', '466', '467', '468', '469', '470', '471', '472', '473', '474', '475', '476', '477', '478', '479', '480', '481', '482', '483', '484', '485', '486', '487', '488', '489', '490', '491', '492', '493', '494', '495', '496', '497', '498', '499', '500', '501', '502', '503', '504', '505', '506', '507', '508', '509', '510', '511', '512', '513', '514', '515', '516', '517', '518', '519', '520', '521', '522', '523', '524', '525', '526', '527', '528', '529', '530', '531', '532', '533', '534', '535', '536', '537', '538', '539', '540', '541', '542', '543', '544', '545', '546', '547', '548', '549', '550', '551', '552', '553', '554', '555', '556', '557', '558', '559', '560', '561', '562', '563', '564', '565', '566', '567', '568', '569', '570', '571', '572', '573', '574', '575', '576', '577', '578', '579', '580', '581', '582', '583', '584', '585', '586', '587', '588', '589', '590', '591', '592', '593', '594', '595', '596', '597', '598', '599', '600', '601', '602', '603', '604', '605', '606', '607', '608', '609', '610', '611', '612', '613', '614', '615', '616', '617', '618', '619', '620', '621', '622', '623', '624', '625', '626', '627', '628', '629', '630', '631', '632', '633', '634', '635', '636', '637', '638', '639', '640', '641', '642', '643', '644', '645', '646', '647', '648', '649', '650', '651', '652', '653', '654', '655', '656', '657', '658', '659', '660', '661', '662', '663', '664', '665', '666', '667', '668', '669', '670', '671', '672', '673', '674', '675', '676', '677', '678', '679', '680', '681', '682', '683', '684', '685', '686', '687', '688', '689', '690', '691', '692', '693', '694', '695', '696', '697', '698', '699', '700', '701', '702', '703', '704', '705', '706', '707', '708', '709', '710', '711', '712', '713', '714', '715', '716', '717', '718', '719', '720', '721', '722', '723', '724', '725', '726', '727', '728', '729', '730'])"
      ]
     },
     "execution_count": 1064,
     "metadata": {},
     "output_type": "execute_result"
    }
   ],
   "source": [
    "# Check the keys\n",
    "data.keys()"
   ]
  },
  {
   "cell_type": "code",
   "execution_count": 1065,
   "metadata": {},
   "outputs": [
    {
     "name": "stdout",
     "output_type": "stream",
     "text": [
      "There is a total of 27079 edges.\n",
      "Some examples of edges are [[0, 1], [0, 2], [0, 3], [0, 4], [0, 5], [0, 6], [0, 7], [0, 8], [0, 9], [0, 10], [0, 11], [0, 12], [0, 13], [0, 14], [0, 15], [0, 16], [0, 17], [0, 18], [0, 19], [0, 20]]\n"
     ]
    }
   ],
   "source": [
    "# The key `edges` consist of list of tuples and there are a total of \n",
    "print(\"There is a total of {} edges.\".format(len(data['edges'])))\n",
    "print(\"Some examples of edges are {}\".format(data['edges'][:20]))"
   ]
  },
  {
   "cell_type": "code",
   "execution_count": 1066,
   "metadata": {},
   "outputs": [
    {
     "data": {
      "text/plain": [
       "[1, 4, 2, 2, 5, 4, 4, 2, 1, 2, 1, 3, 4, 1, 2, 2, 2, 1, 1, 1]"
      ]
     },
     "execution_count": 1066,
     "metadata": {},
     "output_type": "execute_result"
    }
   ],
   "source": [
    "# value of `weights` is a list of numbers\n",
    "data['weights'][:20]"
   ]
  },
  {
   "cell_type": "code",
   "execution_count": 1067,
   "metadata": {},
   "outputs": [
    {
     "name": "stdout",
     "output_type": "stream",
     "text": [
      "The type of data['node_ids'] is  <class 'dict'>\n",
      "The index for `mathematics` is 0\n",
      "Some examples of the dicationary are\n"
     ]
    },
    {
     "data": {
      "text/plain": [
       "[('Mathematics', 0),\n",
       " ('Mathematician', 413),\n",
       " ('Applied mathematics', 12),\n",
       " ('Pure mathematics', 15),\n",
       " ('Recreational mathematics', 35),\n",
       " ('Arithmetic', 16),\n",
       " ('Counting', 8),\n",
       " ('Cardinal number', 68),\n",
       " ('Tally marks', 361),\n",
       " ('Addition', 18)]"
      ]
     },
     "execution_count": 1067,
     "metadata": {},
     "output_type": "execute_result"
    }
   ],
   "source": [
    "# value of `node_ids` is a dictionary assigning node index to each topic\n",
    "print(\"The type of data['node_ids'] is \", type(data['node_ids']))\n",
    "print(\"The index for `mathematics` is {}\".format(data['node_ids']['Mathematics']))\n",
    "print(\"Some examples of the dicationary are\")\n",
    "list(data['node_ids'].items())[0:10]"
   ]
  },
  {
   "cell_type": "markdown",
   "metadata": {},
   "source": [
    "To easily find the topic from its node index, let's creat the reverse dictionary of `data['weights']`, where the keys are the node indices and the values are the corresponding title of the webpage."
   ]
  },
  {
   "cell_type": "code",
   "execution_count": 1068,
   "metadata": {},
   "outputs": [],
   "source": [
    "# Define a dictionary form ### Loading the datasetnode number to the topic\n",
    "idx_to_topic = dict()\n",
    "for key, value in data['node_ids'].items():\n",
    "    idx_to_topic[value] = key"
   ]
  },
  {
   "cell_type": "code",
   "execution_count": 1069,
   "metadata": {},
   "outputs": [
    {
     "name": "stdout",
     "output_type": "stream",
     "text": [
      "Some examples of the inverse dictionay are\n"
     ]
    },
    {
     "data": {
      "text/plain": [
       "[(0, 'Mathematics'),\n",
       " (413, 'Mathematician'),\n",
       " (12, 'Applied mathematics'),\n",
       " (15, 'Pure mathematics'),\n",
       " (35, 'Recreational mathematics'),\n",
       " (16, 'Arithmetic'),\n",
       " (8, 'Counting'),\n",
       " (68, 'Cardinal number'),\n",
       " (361, 'Tally marks'),\n",
       " (18, 'Addition')]"
      ]
     },
     "execution_count": 1069,
     "metadata": {},
     "output_type": "execute_result"
    }
   ],
   "source": [
    "print(\"Some examples of the inverse dictionay are\")\n",
    "list(idx_to_topic.items())[:10]"
   ]
  },
  {
   "cell_type": "markdown",
   "metadata": {},
   "source": [
    "### Some Rudimentary Analysis\n",
    "\n",
    "Let's find the nodes which has 200 or more edges."
   ]
  },
  {
   "cell_type": "code",
   "execution_count": 1070,
   "metadata": {},
   "outputs": [
    {
     "name": "stdout",
     "output_type": "stream",
     "text": [
      "List of topics with 200 or more edges\n",
      "\n",
      "                 Topic  Number of Edges\n",
      "=========================================\n",
      "           Mathematics       533\n",
      "              Geometry       201\n",
      "              Calculus       201\n",
      "     Set (mathematics)       216\n",
      "               Integer       229\n",
      "           Real number       318\n",
      "   Continuous function       204\n",
      "        Complex number       241\n",
      "Function (mathematics)       307\n",
      "          Vector space       202\n"
     ]
    }
   ],
   "source": [
    "edges = data['edges']\n",
    "n_nodes = len(data['node_ids'])\n",
    "n_edges = [0] * n_nodes\n",
    "for edge in edges:\n",
    "    i, j = edge\n",
    "    n_edges[i] += 1\n",
    "    n_edges[j] += 1\n",
    "    \n",
    "freq_nodes = []\n",
    "for i in range(len(n_edges)):\n",
    "    if n_edges[i] >= 200:\n",
    "        freq_nodes.append(i)\n",
    "        \n",
    "print('List of topics with 200 or more edges\\n')\n",
    "print('{:>22}  {:>5}'.format('Topic', 'Number of Edges'))\n",
    "print(\"=========================================\")\n",
    "for i in freq_nodes:\n",
    "    print('{:>22}  {:>8}'.format(idx_to_topic[i], n_edges[i]))"
   ]
  },
  {
   "cell_type": "markdown",
   "metadata": {},
   "source": [
    "Let's plot some of the sturcture of the network with the above 10 most frequent nodes"
   ]
  },
  {
   "cell_type": "code",
   "execution_count": 1071,
   "metadata": {},
   "outputs": [
    {
     "data": {
      "image/png": "[encoded data removed]",
      "text/plain": [
       "<Figure size 432x288 with 1 Axes>"
      ]
     },
     "metadata": {},
     "output_type": "display_data"
    }
   ],
   "source": [
    "import networkx as nx\n",
    "\n",
    "freq_edges = []\n",
    "for edge in edges:\n",
    "    i, j = edge\n",
    "    if i in freq_nodes and j in freq_nodes:\n",
    "        freq_edges.append((i, j))\n",
    "\n",
    "labeldict = {}\n",
    "for i in freq_nodes:\n",
    "    labeldict[i] = idx_to_topic[i]\n",
    "\n",
    "labeldict[45] = 'Set'\n",
    "labeldict[70] = 'Function'\n",
    "\n",
    "G=nx.Graph()\n",
    "G.add_nodes_from(freq_nodes)\n",
    "G.add_edges_from(freq_edges)\n",
    "    \n",
    "nx.draw(G, nodelist = freq_nodes, edgelist = freq_edges, labels=labeldict, \\\n",
    "        node_color='yellow', font_color='blue', node_size=2500,font_size=13)"
   ]
  },
  {
   "cell_type": "markdown",
   "metadata": {},
   "source": [
    "# Graph Partition\n",
    "\n",
    "## Graph Partition - First\n",
    "\n",
    "The first one is to cut the graph where the largest jump happens in the values of Fiedler vector."
   ]
  },
  {
   "cell_type": "code",
   "execution_count": 1072,
   "metadata": {},
   "outputs": [
    {
     "name": "stdout",
     "output_type": "stream",
     "text": [
      "Type of the data is <class 'dict'> and its length is 735\n"
     ]
    }
   ],
   "source": [
    "class GraphPartition():\n",
    "    def __init__(self, number_of_nodes, edges, n_comm = 3, n_divide = 3):\n",
    "        self.n_nodes = number_of_nodes\n",
    "        self.edges = edges\n",
    "        self.n_divide = n_divide\n",
    "        self.n_comm = n_comm\n",
    "        \n",
    "        self.mat_A = None\n",
    "        self.mat_L = None\n",
    "        self.vec_fiedler = None\n",
    "        self.n_cuts = 0\n",
    "        self.cuts = dict()\n",
    "        \n",
    "        self.eval = []\n",
    "        self.evec = []\n",
    "        \n",
    "    def initialize(self):\n",
    "        mat_A = np.zeros((self.n_nodes, self.n_nodes))\n",
    "        for i, j in self.edges:\n",
    "            mat_A[i, j] = 1\n",
    "            mat_A[j, i] = 1\n",
    "        self.mat_A = mat_A\n",
    "        \n",
    "        \n",
    "        diag = np.sum(mat_A, axis = 1)\n",
    "        mat_D = np.diag(diag)\n",
    "        self.mat_L = mat_D - mat_A\n",
    "        \n",
    "    def find_fiedler(self):\n",
    "        self.evals = np.linalg.eig(self.mat_L)[0]\n",
    "        self.evecs = np.linalg.eig(self.mat_L)[1]\n",
    "\n",
    "        self.evals_sorted = self.evals.copy()\n",
    "        self.evals_sorted.sort()\n",
    "        \n",
    "        self.fiedler_idx = np.where(self.evals == self.evals_sorted[1])[0][0]\n",
    "        self.fiedler = self.evecs[:, self.fiedler_idx]\n",
    "   \n",
    "\n",
    "    def cut(self, n_comm = None):\n",
    "        self.n_comm = n_comm\n",
    "        fiedler_sorted = self.fiedler.copy()\n",
    "        fiedler_sorted.sort()\n",
    "        self.fiedler_sorted = fiedler_sorted\n",
    "        gaps = []\n",
    "        for i in range(len(fiedler_sorted) - 1):\n",
    "            gaps.append(fiedler_sorted[i+1] - fiedler_sorted[i])\n",
    "        gaps_sorted = gaps.copy()\n",
    "        gaps_sorted.sort(reverse = True)\n",
    "        \n",
    "        n_cuts = self.n_comm - 1\n",
    "        cut_idx = []\n",
    "        gaps_to_cut = gaps_sorted[:n_cuts]\n",
    "        \n",
    "        self.comm = dict()\n",
    "        for i in range(self.n_comm):\n",
    "            self.comm[i] = []\n",
    "        for gap in gaps_to_cut:\n",
    "            cut_idx.append(gaps.index(gap))\n",
    "        cut_idx.sort()\n",
    "        thresholds= []\n",
    "        for i in cut_idx:\n",
    "            thresholds.append((fiedler_sorted[i] + fiedler_sorted[i+1]) / 2.)\n",
    "        thresholds.sort()\n",
    "        node_list = list(np.linspace(0, self.n_nodes-1, self.n_nodes))\n",
    "        node_list = [int(x) for x in node_list]\n",
    "        \n",
    "        for i in range(n_cuts):\n",
    "            self.comm[i] = list(np.where(self.fiedler < thresholds[i])[0])\n",
    "        self.comm[n_cuts] = node_list\n",
    "        \n",
    "        for i in range(self.n_comm - 1):\n",
    "            self.comm[self.n_comm - 1 - i] = list(set(self.comm[self.n_comm - 1 - i]) - set(self.comm[self.n_comm - i - 2]))\n",
    "        \n",
    "    \n",
    "    def fiedler_plot(self, after_n_cuts=0):\n",
    "        scatter_data = list(self.fiedler_sorted.copy())\n",
    "        for i in range(after_n_cuts):\n",
    "            scatter_data.pop()\n",
    "        m = len(scatter_data)\n",
    "        x_val = np.linspace(0, m-1, m)\n",
    "        plt.plot(x_val, scatter_data, '-o')\n",
    "        plt.title(\"Sorted Fiedler Vector Plot\")\n",
    "        plt.show()# Check the data type and the length\n",
    "print(\"Type of the data is {} and its length is {}\".format(type(data), len(data)))"
   ]
  },
  {
   "cell_type": "code",
   "execution_count": 1073,
   "metadata": {},
   "outputs": [],
   "source": [
    "gp = GraphPartition(number_of_nodes = n_nodes, edges = edges)\n",
    "gp.initialize()\n",
    "gp.find_fiedler()"
   ]
  },
  {
   "cell_type": "markdown",
   "metadata": {},
   "source": [
    "### Cluster after 1 cut"
   ]
  },
  {
   "cell_type": "code",
   "execution_count": 1074,
   "metadata": {},
   "outputs": [
    {
     "name": "stdout",
     "output_type": "stream",
     "text": [
      "\n",
      "The 0-th cluster is\n",
      "0-th node Mathematics\n",
      "1-th node Number theory\n",
      "2-th node Algebra\n",
      "3-th node Geometry\n",
      "4-th node Calculus\n",
      "5-th node Mathematical analysis\n",
      "6-th node Conjecture\n",
      "7-th node Mathematical proof\n",
      "8-th node Counting\n",
      "9-th node Shape\n",
      "and more...\n",
      "\n",
      "The 1-th cluster is\n",
      "1053-th node Kolmogorov structure function\n"
     ]
    }
   ],
   "source": [
    "n_comm = 2\n",
    "gp.cut(n_comm = n_comm)\n",
    "for i in range(0, n_comm):\n",
    "    print(\"\\nThe {}-th cluster is\".format(i))\n",
    "    for j in range(len(gp.comm[i])):\n",
    "        if j < 10:\n",
    "            print('{}-th node {}'.format(gp.comm[i][j], idx_to_topic[gp.comm[i][j]]))\n",
    "        if j == 10:\n",
    "            print('and more...')"
   ]
  },
  {
   "cell_type": "markdown",
   "metadata": {},
   "source": [
    "### Cluster after 2 cuts"
   ]
  },
  {
   "cell_type": "code",
   "execution_count": 1075,
   "metadata": {
    "scrolled": false
   },
   "outputs": [
    {
     "name": "stdout",
     "output_type": "stream",
     "text": [
      "\n",
      "The 0-th cluster is\n",
      "0-th node Mathematics\n",
      "1-th node Number theory\n",
      "2-th node Algebra\n",
      "3-th node Geometry\n",
      "4-th node Calculus\n",
      "5-th node Mathematical analysis\n",
      "6-th node Conjecture\n",
      "7-th node Mathematical proof\n",
      "8-th node Counting\n",
      "9-th node Shape\n",
      "and more...\n",
      "\n",
      "The 1-th cluster is\n",
      "595-th node Kolmogorov complexity\n",
      "\n",
      "The 2-th cluster is\n",
      "1053-th node Kolmogorov structure function\n"
     ]
    }
   ],
   "source": [
    "n_comm = 3\n",
    "gp.cut(n_comm = n_comm)\n",
    "for i in range(0, n_comm):\n",
    "    print(\"\\nThe {}-th cluster is\".format(i))\n",
    "    for j in range(len(gp.comm[i])):\n",
    "        if j < 10:\n",
    "            print('{}-th node {}'.format(gp.comm[i][j], idx_to_topic[gp.comm[i][j]]))\n",
    "        if j == 10:\n",
    "            print('and more...')"
   ]
  },
  {
   "cell_type": "markdown",
   "metadata": {},
   "source": [
    "### Cluster after 3 cuts"
   ]
  },
  {
   "cell_type": "code",
   "execution_count": 1076,
   "metadata": {
    "scrolled": false
   },
   "outputs": [
    {
     "name": "stdout",
     "output_type": "stream",
     "text": [
      "\n",
      "The 0-th cluster is\n",
      "1067-th node Cache replacement policies\n",
      "\n",
      "The 1-th cluster is\n",
      "0-th node Mathematics\n",
      "1-th node Number theory\n",
      "2-th node Algebra\n",
      "3-th node Geometry\n",
      "4-th node Calculus\n",
      "5-th node Mathematical analysis\n",
      "6-th node Conjecture\n",
      "7-th node Mathematical proof\n",
      "8-th node Counting\n",
      "9-th node Shape\n",
      "and more...\n",
      "\n",
      "The 2-th cluster is\n",
      "595-th node Kolmogorov complexity\n",
      "\n",
      "The 3-th cluster is\n",
      "1053-th node Kolmogorov structure function\n"
     ]
    }
   ],
   "source": [
    "n_comm = 4\n",
    "gp.cut(n_comm = n_comm)\n",
    "for i in range(0, n_comm):\n",
    "    print(\"\\nThe {}-th cluster is\".format(i))\n",
    "    for j in range(len(gp.comm[i])):\n",
    "        if j < 10:\n",
    "            print('{}-th node {}'.format(gp.comm[i][j], idx_to_topic[gp.comm[i][j]]))\n",
    "        if j == 10:\n",
    "            print('and more...')"
   ]
  },
  {
   "cell_type": "markdown",
   "metadata": {},
   "source": [
    "### Clusters after 7 cuts"
   ]
  },
  {
   "cell_type": "code",
   "execution_count": 1077,
   "metadata": {},
   "outputs": [
    {
     "name": "stdout",
     "output_type": "stream",
     "text": [
      "\n",
      "The 0-th cluster is\n",
      "1067-th node Cache replacement policies\n",
      "\n",
      "The 1-th cluster is\n",
      "0-th node Mathematics\n",
      "1-th node Number theory\n",
      "2-th node Algebra\n",
      "3-th node Geometry\n",
      "4-th node Calculus\n",
      "5-th node Mathematical analysis\n",
      "6-th node Conjecture\n",
      "7-th node Mathematical proof\n",
      "8-th node Counting\n",
      "9-th node Shape\n",
      "and more...\n",
      "\n",
      "The 2-th cluster is\n",
      "365-th node Pigeonhole principle\n",
      "53-th node Entropy (information theory)\n",
      "150-th node Model of computation\n",
      "1054-th node Gap theorem\n",
      "\n",
      "The 3-th cluster is\n",
      "741-th node Universal Turing machine\n",
      "747-th node Gödel numbering\n",
      "910-th node Telephone number\n",
      "978-th node Shellsort\n",
      "735-th node Blum's speedup theorem\n",
      "\n",
      "The 4-th cluster is\n",
      "52-th node Data compression\n",
      "\n",
      "The 5-th cluster is\n",
      "734-th node Blum axioms\n",
      "\n",
      "The 6-th cluster is\n",
      "595-th node Kolmogorov complexity\n",
      "\n",
      "The 7-th cluster is\n",
      "1053-th node Kolmogorov structure function\n"
     ]
    }
   ],
   "source": [
    "n_comm = 8\n",
    "gp.cut(n_comm = n_comm)\n",
    "for i in range(0, n_comm):\n",
    "    print(\"\\nThe {}-th cluster is\".format(i))\n",
    "    for j in range(len(gp.comm[i])):\n",
    "        if j < 10:\n",
    "            print('{}-th node {}'.format(gp.comm[i][j], idx_to_topic[gp.comm[i][j]]))\n",
    "        if j == 10:\n",
    "            print('and more...')"
   ]
  },
  {
   "cell_type": "markdown",
   "metadata": {},
   "source": [
    "## Check the edges of single separated nodes."
   ]
  },
  {
   "cell_type": "code",
   "execution_count": 1078,
   "metadata": {},
   "outputs": [
    {
     "name": "stdout",
     "output_type": "stream",
     "text": [
      "The number of edges of Kolmogorov structure function is 1\n",
      "The number of edges of Kolmogorov complexity is 26\n",
      "The number of edges of Cache replacement policies is 1\n",
      "The number of edges of Blum axioms is 7\n",
      "The number of edges of Data compression is 15\n"
     ]
    }
   ],
   "source": [
    "single_separated_nodes = [1053, 595, 1067, 734, 52]\n",
    "for node in single_separated_nodes:\n",
    "    print(\"The number of edges of {} is {}\".format(idx_to_topic[node], n_edges[node]))"
   ]
  },
  {
   "cell_type": "markdown",
   "metadata": {},
   "source": [
    "### Gaps in values of the Fiedler Vector"
   ]
  },
  {
   "cell_type": "code",
   "execution_count": 1079,
   "metadata": {
    "scrolled": true
   },
   "outputs": [
    {
     "data": {
      "image/png": "[encoded data removed]",
      "text/plain": [
       "<Figure size 432x288 with 1 Axes>"
      ]
     },
     "metadata": {
      "needs_background": "light"
     },
     "output_type": "display_data"
    }
   ],
   "source": [
    "# Plot the sorted fiedler vector\n",
    "scatter_data = [value for value in gp.fiedler_sorted]\n",
    "x_val = np.linspace(0, gp.n_nodes-1, gp.n_nodes)\n",
    "plt.plot(x_val, scatter_data, '-o')\n",
    "plt.title(\"Sorted Fiedler Vector Plot\")\n",
    "plt.show()"
   ]
  },
  {
   "cell_type": "code",
   "execution_count": 1080,
   "metadata": {},
   "outputs": [
    {
     "data": {
      "image/png": "[encoded data removed]",
      "text/plain": [
       "<Figure size 432x288 with 1 Axes>"
      ]
     },
     "metadata": {
      "needs_background": "light"
     },
     "output_type": "display_data"
    }
   ],
   "source": [
    "# Plot the sorted fiedler vector\n",
    "scatter_data = [value for value in gp.fiedler_sorted]\n",
    "x_val = np.linspace(0, gp.n_nodes-1, gp.n_nodes)\n",
    "plt.plot(x_val[:-1], scatter_data[:-1], '-o')\n",
    "plt.title(\"Sorted Fiedler Vector Plot\")\n",
    "plt.show()"
   ]
  },
  {
   "cell_type": "code",
   "execution_count": 1081,
   "metadata": {},
   "outputs": [
    {
     "data": {
      "image/png": "[encoded data removed]",
      "text/plain": [
       "<Figure size 432x288 with 1 Axes>"
      ]
     },
     "metadata": {
      "needs_background": "light"
     },
     "output_type": "display_data"
    }
   ],
   "source": [
    "# Plot the sorted fiedler vector\n",
    "scatter_data = [value for value in gp.fiedler_sorted]\n",
    "x_val = np.linspace(0, gp.n_nodes-1, gp.n_nodes)\n",
    "plt.plot(x_val[:-2], scatter_data[:-2], '-o')\n",
    "plt.title(\"Sorted Fiedler Vector Plot\")\n",
    "plt.show()"
   ]
  },
  {
   "cell_type": "code",
   "execution_count": 1082,
   "metadata": {},
   "outputs": [
    {
     "data": {
      "image/png": "[encoded data removed]",
      "text/plain": [
       "<Figure size 432x288 with 1 Axes>"
      ]
     },
     "metadata": {
      "needs_background": "light"
     },
     "output_type": "display_data"
    }
   ],
   "source": [
    "# Plot the sorted fiedler vector\n",
    "scatter_data = [value for value in gp.fiedler_sorted]\n",
    "x_val = np.linspace(0, gp.n_nodes-1, gp.n_nodes)\n",
    "plt.plot(x_val[1:-2], scatter_data[1:-2], '-o')\n",
    "plt.title(\"Sorted Fiedler Vector Plot\")\n",
    "plt.show()"
   ]
  },
  {
   "cell_type": "code",
   "execution_count": 1083,
   "metadata": {},
   "outputs": [
    {
     "data": {
      "image/png": "[encoded data removed]",
      "text/plain": [
       "<Figure size 432x288 with 1 Axes>"
      ]
     },
     "metadata": {
      "needs_background": "light"
     },
     "output_type": "display_data"
    }
   ],
   "source": [
    "# Plot the sorted fiedler vector\n",
    "scatter_data = [value for value in gp.fiedler_sorted]\n",
    "x_val = np.linspace(0, gp.n_nodes-1, gp.n_nodes)\n",
    "plt.plot(x_val[1:-3], scatter_data[1:-3], '-o')\n",
    "plt.title(\"Sorted Fiedler Vector Plot\")\n",
    "plt.show()"
   ]
  },
  {
   "cell_type": "code",
   "execution_count": 1084,
   "metadata": {},
   "outputs": [
    {
     "data": {
      "image/png": "[encoded data removed]",
      "text/plain": [
       "<Figure size 432x288 with 1 Axes>"
      ]
     },
     "metadata": {
      "needs_background": "light"
     },
     "output_type": "display_data"
    }
   ],
   "source": [
    "# Plot the sorted fiedler vector\n",
    "scatter_data = [value for value in gp.fiedler_sorted]\n",
    "x_val = np.linspace(0, gp.n_nodes-1, gp.n_nodes)\n",
    "plt.plot(x_val[1:-4], scatter_data[1:-4], '-o')\n",
    "plt.title(\"Sorted Fiedler Vector Plot\")\n",
    "plt.show()"
   ]
  },
  {
   "cell_type": "markdown",
   "metadata": {},
   "source": [
    "## Graph Partition - Second\n",
    "\n",
    "In the second Graph Partition, choose multiple eigenvectors and cut by components of postive and negative values of the eigenvectors."
   ]
  },
  {
   "cell_type": "code",
   "execution_count": 1085,
   "metadata": {},
   "outputs": [],
   "source": [
    "class GraphPartition_2(GraphPartition):\n",
    "    \n",
    "    def find_fiedlers(self):\n",
    "        self.evals = np.linalg.eig(self.mat_L)[0]\n",
    "        self.evecs = np.linalg.eig(self.mat_L)[1]\n",
    "\n",
    "        self.evals_sorted = self.evals.copy()\n",
    "        self.evals_sorted.sort()\n",
    "        \n",
    "        self.evals_idx = []\n",
    "        for i in range(self.n_divide):\n",
    "            self.evals_idx.append(np.where(self.evals == self.evals_sorted[i+1])[0][0])\n",
    "            \n",
    "        self.fiedlers = []\n",
    "        for idx in self.evals_idx:\n",
    "            self.fiedlers.append(self.evecs[:, idx])\n",
    "\n",
    "    def divide(self):\n",
    "        nodes = list(range(self.n_nodes))\n",
    "        comm = [0] * self.n_nodes\n",
    "        \n",
    "        for i in range(len(self.fiedlers)):\n",
    "            fi = self.fiedlers[i]\n",
    "            divide_1 = list(np.where(fi <= 0)[0])\n",
    "            divide_2 = list(np.where(fi > 0)[0])\n",
    "            for idx in divide_1:\n",
    "                comm[idx] += 0\n",
    "            for idx in divide_2:\n",
    "                comm[idx] += 2**i\n",
    "        \n",
    "        \n",
    "        community = dict()\n",
    "        for i in range(2**self.n_divide):\n",
    "            community[i] = []\n",
    "            \n",
    "        for idx, val in enumerate(comm):\n",
    "            community[val].append(idx)\n",
    "        \n",
    "        self.community = community\n",
    "\n",
    "        \n",
    "    def show_evecs(self):\n",
    "        n_figure = self.n_divide\n",
    "\n",
    "        x_val = np.linspace(0, n_nodes-1, num=n_nodes)\n",
    "        \n",
    "        if n_figure > 1:\n",
    "            fig, axs = plt.subplots(1,n_figure, figsize=(15,5))\n",
    "            for i in range(n_figure):\n",
    "                fi = self.fiedlers[i]\n",
    "                fi.sort()\n",
    "                \n",
    "                idx = list(np.where(fi<0)[0])[-1]\n",
    "                \n",
    "                color = []\n",
    "                for j in fi:\n",
    "                    if j < 0:\n",
    "                        color.append(245)\n",
    "                    else:\n",
    "                        color.append(100)\n",
    "\n",
    "                axs[i].plot(x_val[:idx], fi[:idx], '-o', c='red')\n",
    "                axs[i].plot(x_val[idx:], fi[idx:], '-o', c='blue')\n",
    "            plt.show()\n",
    "            \n",
    "        else:\n",
    "            fi = self.fiedlers[0]\n",
    "            fi.sort()\n",
    "            plt.figure() \n",
    "            plt.plot(x_val,fi)\n",
    "            plt.show()\n"
   ]
  },
  {
   "cell_type": "code",
   "execution_count": 1086,
   "metadata": {},
   "outputs": [
    {
     "data": {
      "image/png": "[encoded data removed]",
      "text/plain": [
       "<Figure size 1080x360 with 4 Axes>"
      ]
     },
     "metadata": {
      "needs_background": "light"
     },
     "output_type": "display_data"
    }
   ],
   "source": [
    "gp_2 = GraphPartition_2(number_of_nodes = n_nodes, edges = edges, n_divide = 4)\n",
    "gp_2.initialize()\n",
    "gp_2.find_fiedlers()\n",
    "gp_2.divide()\n",
    "gp_2.show_evecs()"
   ]
  },
  {
   "cell_type": "code",
   "execution_count": 1087,
   "metadata": {
    "scrolled": false
   },
   "outputs": [
    {
     "name": "stdout",
     "output_type": "stream",
     "text": [
      "\n",
      "The nodes of cluster 0 are\n",
      "13-th node Statistics\n",
      "99-th node Design of experiments\n",
      "100-th node Observational study\n",
      "101-th node Statistical hypothesis testing\n",
      "317-th node Fourier analysis\n",
      "341-th node Probability distribution\n",
      "342-th node Random variable\n",
      "359-th node Bayes' theorem\n",
      "417-th node Normal distribution\n",
      "418-th node Probability density function\n",
      "419-th node Central limit theorem\n",
      "and more\n",
      "\n",
      "There is no node in the cluster 1\n",
      "\n",
      "There is no node in the cluster 2\n",
      "\n",
      "The nodes of cluster 3 are\n",
      "1053-th node Kolmogorov structure function\n",
      "\n",
      "There is no node in the cluster 4\n",
      "\n",
      "The nodes of cluster 5 are\n",
      "52-th node Data compression\n",
      "910-th node Telephone number\n",
      "\n",
      "The nodes of cluster 6 are\n",
      "1067-th node Cache replacement policies\n",
      "\n",
      "There is no node in the cluster 7\n",
      "\n",
      "The nodes of cluster 8 are\n",
      "0-th node Mathematics\n",
      "1-th node Number theory\n",
      "2-th node Algebra\n",
      "3-th node Geometry\n",
      "4-th node Calculus\n",
      "5-th node Mathematical analysis\n",
      "6-th node Conjecture\n",
      "7-th node Mathematical proof\n",
      "8-th node Counting\n",
      "9-th node Shape\n",
      "10-th node Foundations of mathematics\n",
      "and more\n",
      "\n",
      "The nodes of cluster 9 are\n",
      "28-th node Gödel's incompleteness theorems\n",
      "51-th node Turing machine\n",
      "150-th node Model of computation\n",
      "353-th node Data structure\n",
      "365-th node Pigeonhole principle\n",
      "384-th node Halting problem\n",
      "547-th node Mandelbrot set\n",
      "734-th node Blum axioms\n",
      "741-th node Universal Turing machine\n",
      "747-th node Gödel numbering\n",
      "978-th node Shellsort\n",
      "and more\n",
      "\n",
      "The nodes of cluster 10 are\n",
      "107-th node Algorithm\n",
      "902-th node Karnaugh map\n",
      "922-th node Viterbi algorithm\n",
      "990-th node String-searching algorithm\n",
      "\n",
      "The nodes of cluster 11 are\n",
      "735-th node Blum's speedup theorem\n",
      "\n",
      "The nodes of cluster 12 are\n",
      "47-th node Theoretical computer science\n",
      "50-th node Information theory\n",
      "147-th node Number\n",
      "330-th node Fourier transform\n",
      "337-th node Markov chain\n",
      "338-th node Coding theory\n",
      "360-th node Numeral system\n",
      "361-th node Tally marks\n",
      "494-th node Arabic numerals\n",
      "515-th node Decimal separator\n",
      "\n",
      "The nodes of cluster 13 are\n",
      "34-th node Fast Fourier transform\n",
      "53-th node Entropy (information theory)\n",
      "\n",
      "There is no node in the cluster 14\n",
      "\n",
      "The nodes of cluster 15 are\n",
      "595-th node Kolmogorov complexity\n"
     ]
    }
   ],
   "source": [
    "for key, value in gp_2.community.items():\n",
    "    if len(value) == 0:\n",
    "        print('\\nThere is no node in the cluster {}'.format(key))\n",
    "        continue\n",
    "    print('\\nThe nodes of cluster {} are'.format(key))\n",
    "    for i in range(len(value)):\n",
    "        print('{}-th node {}'.format(value[i], idx_to_topic[value[i]]))\n",
    "        if i == 10:\n",
    "            print('and more')\n",
    "            break"
   ]
  },
  {
   "cell_type": "markdown",
   "metadata": {},
   "source": [
    "The red dots are negative values and blue are positive. From the left, the eigenvectors corresponds to the 2nd, 3rd, 4th and 5th smallest eigenvalues."
   ]
  },
  {
   "cell_type": "markdown",
   "metadata": {},
   "source": [
    "# BigCLAM\n",
    "\n",
    "BigCLAM algorithm is implemented to find multi-communities association scores for each node"
   ]
  },
  {
   "cell_type": "code",
   "execution_count": 1088,
   "metadata": {},
   "outputs": [],
   "source": [
    "class BigCLAM():\n",
    "    def __init__(self, number_of_nodes, edges, n_iter = 10, n_comm = 3, idx = None):\n",
    "        self.n_nodes = number_of_nodes\n",
    "        self.edges = edges\n",
    "        self.n_iter = n_iter\n",
    "        if idx == None:\n",
    "            self.n_comm = n_comm\n",
    "        else:\n",
    "            self.n_comm = len(idx)\n",
    "        self.mat_A = None\n",
    "        self.mat_F = None\n",
    "        self.eta = 0.00002\n",
    "        self.idx = idx\n",
    "    \n",
    "    def initialize(self):\n",
    "        mat_A = np.zeros((self.n_nodes, self.n_nodes))\n",
    "        for i, j in self.edges:\n",
    "            mat_A[i, j] = 1\n",
    "            mat_A[j, i] = 1\n",
    "        self.mat_A = mat_A\n",
    "\n",
    "        mat_F = np.full((self.n_nodes, self.n_comm), 0.001)\n",
    "        if self.idx != None:\n",
    "            for i in range(len(self.idx)):\n",
    "                mat_F[self.idx[i], i] = 100\n",
    "                \n",
    "        self.mat_F = mat_F\n",
    "\n",
    "    def convergence(self, dist=0.001):\n",
    "        old_mat = self.mat_F \n",
    "        new_mat = self.new_F \n",
    "        size = old_mat.shape[0] * old_mat.shape[1]\n",
    "        old_mat.reshape((size,))\n",
    "        new_mat.reshape((size,))\n",
    "        l2_norm = np.linalg.norm(old_mat - new_mat)\n",
    "        if l2_norm < dist:\n",
    "            return True\n",
    "        else:\n",
    "            return False\n",
    "    \n",
    "    def normalize(self, mat):\n",
    "        col_sum = np.sum(mat, axis = 0)\n",
    "        return 100 * mat / col_sum\n",
    "\n",
    "    def gradient(self):\n",
    "        \n",
    "        mat_FFT = np.matmul(self.mat_F, np.transpose(self.mat_F))\n",
    "\n",
    "        mat_FFT[np.where(mat_FFT==0)] = 0.01\n",
    "        _ = 1./(1.-np.exp(-mat_FFT))\n",
    "\n",
    "        _FIRST = np.matmul((self.mat_A * _), self.mat_F)\n",
    "        _ones = np.ones_like(self.mat_F)\n",
    "    \n",
    "        self.grad = _FIRST + self.mat_F - _ones\n",
    "\n",
    "    def reset_F(self, idx=[2,3,5], assign = [0, 1, 2]):\n",
    "        if idx != None:\n",
    "            for i in range(len(idx)):\n",
    "                self.mat_F[idx[i], i] = 100\n",
    "                for j in range(3):\n",
    "                    if j != i:\n",
    "                        self.mat_F[idx[i], j] = 0\n",
    "\n",
    "    def neg_to_zeor_new_F(self):\n",
    "        self.new_F[self.new_F < 0] = 0\n",
    "    \n",
    "    def one_iteration(self):\n",
    "        self.mat_F = self.normalize(self.mat_F)      \n",
    "        self.gradient()\n",
    "        self.new_F = self.mat_F + self.eta * self.grad\n",
    "        self.neg_to_zeor_new_F()        \n",
    "        self.new_F = self.normalize(self.new_F)\n",
    "                \n",
    "    def run_BigCLAM(self):\n",
    "        if self.n_iter == None:\n",
    "            converge = False\n",
    "            count = 0\n",
    "            while not converge:\n",
    "                count += 1\n",
    "                self.one_iteration()\n",
    "                converge = self.convergence()\n",
    "                self.mat_F = self.new_F\n",
    "        \n",
    "        else:\n",
    "            i = 0\n",
    "            while i < self.n_iter:\n",
    "                i += 1\n",
    "                self.one_iteration()\n",
    "                self.mat_F = self.new_F\n",
    "                \n",
    "        \n",
    "        return self.new_F\n",
    "    \n",
    "    def community_class(self):   \n",
    "        label_C = []\n",
    "        for row in self.new_F:\n",
    "            label_C.append(np.argmax(row))\n",
    "        self.label_C = np.array(label_C)\n",
    "        \n",
    "        return self.label_C\n",
    "    \n",
    "    def print_community(self, i):\n",
    "        list_i = list(np.where(self.label_C == i)[0])\n",
    "        for i in list_i:\n",
    "            print(idx_to_topic[i])\n",
    "\n",
    "    \n",
    "    def community_list(self, i = 0):\n",
    "        list_i = list(np.where(self.label_C == i)[0])\n",
    "        return list_i"
   ]
  },
  {
   "cell_type": "markdown",
   "metadata": {},
   "source": [
    "## BigCLAM with No initialization\n",
    "\n",
    "Without initializaing any nodes, the result shows that each node has equal community affiliation scores. The default number of communities is 3."
   ]
  },
  {
   "cell_type": "code",
   "execution_count": 1089,
   "metadata": {},
   "outputs": [],
   "source": [
    "bc = BigCLAM(number_of_nodes = n_nodes, edges = edges, n_iter = None)\n",
    "bc.initialize()\n",
    "result_F = bc.run_BigCLAM()\n",
    "label = bc.community_class()"
   ]
  },
  {
   "cell_type": "code",
   "execution_count": 1090,
   "metadata": {
    "scrolled": true
   },
   "outputs": [
    {
     "data": {
      "text/plain": [
       "array([[0.33303361, 0.33303361, 0.33303361],\n",
       "       [0.1901493 , 0.1901493 , 0.1901493 ],\n",
       "       [0.16471208, 0.16471208, 0.16471208],\n",
       "       ...,\n",
       "       [0.02498366, 0.02498366, 0.02498366],\n",
       "       [0.02497618, 0.02497618, 0.02497618],\n",
       "       [0.01527516, 0.01527516, 0.01527516]])"
      ]
     },
     "execution_count": 1090,
     "metadata": {},
     "output_type": "execute_result"
    }
   ],
   "source": [
    "bc.mat_F"
   ]
  },
  {
   "cell_type": "code",
   "execution_count": 1091,
   "metadata": {},
   "outputs": [
    {
     "name": "stdout",
     "output_type": "stream",
     "text": [
      "The node 602 has different community association\n"
     ]
    }
   ],
   "source": [
    "for i in range(len(bc.mat_F)):\n",
    "    row = bc.mat_F[i]\n",
    "    if row[0] == row[1] and row[1] == row[2]:\n",
    "        pass\n",
    "    else:\n",
    "        print('The node {} has different community association'.format(i))\n",
    "    "
   ]
  },
  {
   "cell_type": "code",
   "execution_count": 1092,
   "metadata": {},
   "outputs": [
    {
     "data": {
      "text/plain": [
       "'Conformal map'"
      ]
     },
     "execution_count": 1092,
     "metadata": {},
     "output_type": "execute_result"
    }
   ],
   "source": [
    "idx_to_topic[602]"
   ]
  },
  {
   "cell_type": "code",
   "execution_count": 1093,
   "metadata": {},
   "outputs": [
    {
     "name": "stdout",
     "output_type": "stream",
     "text": [
      "0.08500390163521489\n",
      "0.08500390163521489\n",
      "0.0850039016352149\n"
     ]
    }
   ],
   "source": [
    "for i in bc.mat_F[602]:\n",
    "    print(i)"
   ]
  },
  {
   "cell_type": "markdown",
   "metadata": {},
   "source": [
    "Only the node `Conformal map` doesn't have not equivalent community associations but the difference is less than $10^{-16}$, which is considered equal. So, without initialization, all belongs to all communities with same strength."
   ]
  },
  {
   "cell_type": "markdown",
   "metadata": {},
   "source": [
    "## Initialize 3 nodes - 'Algebra', 'Geometry' and 'Mathematical Analysis'"
   ]
  },
  {
   "cell_type": "code",
   "execution_count": 1094,
   "metadata": {},
   "outputs": [],
   "source": [
    "# edges = data['edges']\n",
    "# n_nodes = len(data['node_ids'])\n",
    "\n",
    "bc_init_1 = BigCLAM(number_of_nodes = n_nodes, edges = edges, n_iter = None, idx=[2, 3, 5])\n",
    "bc_init_1.initialize()\n",
    "result_F = bc_init_1.run_BigCLAM()\n",
    "label_1 = bc_init_1.community_class()"
   ]
  },
  {
   "cell_type": "markdown",
   "metadata": {},
   "source": [
    "### Nodes associated to 'Algebra'"
   ]
  },
  {
   "cell_type": "code",
   "execution_count": 1095,
   "metadata": {
    "scrolled": false
   },
   "outputs": [
    {
     "name": "stdout",
     "output_type": "stream",
     "text": [
      "Mathematics\n",
      "Number theory\n",
      "Algebra\n",
      "Conjecture\n",
      "Mathematical proof\n",
      "Counting\n",
      "Foundations of mathematics\n",
      "Axiom\n",
      "Pure mathematics\n",
      "Arithmetic\n",
      "Addition\n",
      "Subtraction\n",
      "Multiplication\n",
      "Division (mathematics)\n",
      "Gödel's incompleteness theorems\n",
      "Group theory\n",
      "Prime number\n",
      "Fast Fourier transform\n",
      "Recreational mathematics\n",
      "Field (mathematics)\n",
      "Axiomatic system\n",
      "Set theory\n",
      "Mathematical logic\n",
      "Set (mathematics)\n",
      "Model theory\n",
      "Category theory\n",
      "Turing machine\n",
      "Theory of computation\n",
      "Natural number\n",
      "Integer\n",
      "Twin prime\n",
      "Goldbach's conjecture\n",
      "Rational number\n",
      "Group (mathematics)\n",
      "Ring (mathematics)\n",
      "Abstract algebra\n",
      "Galois theory\n",
      "Linear algebra\n",
      "Vector space\n",
      "Combinatorics\n",
      "Graph theory\n",
      "Order theory\n",
      "Polynomial\n",
      "Design of experiments\n",
      "Observational study\n",
      "Statistical hypothesis testing\n",
      "Mathematical problem\n",
      "Algorithm\n",
      "Hilbert's problems\n",
      "Commutative algebra\n",
      "Elementary algebra\n",
      "Algebraic number theory\n",
      "Analytic number theory\n",
      "Arithmetic function\n",
      "Irrational number\n",
      "Chinese remainder theorem\n",
      "Kuṭṭaka\n",
      "Euclidean algorithm\n",
      "Elliptic curve\n",
      "Wilson's theorem\n",
      "Perfect number\n",
      "Divisor\n",
      "Fermat's little theorem\n",
      "Quadratic reciprocity\n",
      "Prime number theorem\n",
      "Dirichlet's theorem on arithmetic progressions\n",
      "Root of unity\n",
      "Algebraic number\n",
      "Galois group\n",
      "Abelian group\n",
      "Class field theory\n",
      "Diophantine equation\n",
      "Transcendental number\n",
      "Greatest common divisor\n",
      "Primality test\n",
      "Finite field\n",
      "Number\n",
      "Modular arithmetic\n",
      "Continued fraction\n",
      "Formal language\n",
      "Quadratic formula\n",
      "Constant (mathematics)\n",
      "Associative property\n",
      "Commutative property\n",
      "Commutative ring\n",
      "Quadratic equation\n",
      "Permutation\n",
      "Matrix (mathematics)\n",
      "Homological algebra\n",
      "Linear equation\n",
      "Algebraic equation\n",
      "Ring theory\n",
      "Boolean algebra\n",
      "Topological space\n",
      "Algebraic combinatorics\n",
      "Exterior algebra\n",
      "Boolean algebra (structure)\n",
      "Variable (mathematics)\n",
      "Element (mathematics)\n",
      "Matrix multiplication\n",
      "Classification of finite simple groups\n",
      "Module (mathematics)\n",
      "Polynomial ring\n",
      "Inner product space\n",
      "General topology\n",
      "Propositional calculus\n",
      "Division by zero\n",
      "Representation theory\n",
      "Axiom of choice\n",
      "P versus NP problem\n",
      "Mathematical induction\n",
      "Data structure\n",
      "Material conditional\n",
      "Contraposition\n",
      "Rule of inference\n",
      "Double counting (proof technique)\n",
      "Zermelo–Fraenkel set theory\n",
      "Bayes' theorem\n",
      "Numeral system\n",
      "Tally marks\n",
      "Numerical digit\n",
      "Function composition\n",
      "Cardinality\n",
      "Enumerative combinatorics\n",
      "Ordinal number\n",
      "Equivalence relation\n",
      "First-order logic\n",
      "Russell's paradox\n",
      "Peano axioms\n",
      "Gödel's completeness theorem\n",
      "Skolem's paradox\n",
      "Halting problem\n",
      "Entscheidungsproblem\n",
      "Church–Turing thesis\n",
      "Löwenheim–Skolem theorem\n",
      "Well-formed formula\n",
      "Class (set theory)\n",
      "Theory (mathematical logic)\n",
      "Venn diagram\n",
      "Logical connective\n",
      "Truth table\n",
      "Power set\n",
      "Structure (mathematical logic)\n",
      "Recursively enumerable set\n",
      "Decision problem\n",
      "Computable function\n",
      "Primitive recursive function\n",
      "Category (mathematics)\n",
      "Negation\n",
      "Modus ponens\n",
      "Isomorphism\n",
      "Statistical population\n",
      "Standard deviation\n",
      "Type I and type II errors\n",
      "Confidence interval\n",
      "Randomized controlled trial\n",
      "Analysis of variance\n",
      "Linear regression\n",
      "Ordinary least squares\n",
      "Frequentist inference\n",
      "Credible interval\n",
      "Statistical significance\n",
      "P-value\n",
      "Prior probability\n",
      "Chi-squared test\n",
      "Student's t-test\n",
      "Survey methodology\n",
      "Arithmetic mean\n",
      "Mode (statistics)\n",
      "Standard error\n",
      "Factorial experiment\n",
      "Posterior probability\n",
      "Maximum a posteriori estimation\n",
      "Prisoner's dilemma\n",
      "Zero-sum game\n",
      "Minimax\n",
      "Nash equilibrium\n",
      "Repeated game\n",
      "Common knowledge (logic)\n",
      "Perfect information\n",
      "Extensive-form game\n",
      "Information set (game theory)\n",
      "Strategy (game theory)\n",
      "Normal-form game\n",
      "Upper and lower bounds\n",
      "Strategic dominance\n",
      "Battle of the sexes (game theory)\n",
      "Arrow's impossibility theorem\n",
      "Exponentiation\n",
      "Nth root\n",
      "Roman numerals\n",
      "Decimal\n",
      "Positional notation\n",
      "Percentage\n",
      "Order of operations\n",
      "Multiplicative inverse\n",
      "Modulo operation\n",
      "Fundamental theorem of arithmetic\n",
      "Sieve of Eratosthenes\n",
      "Arabic numerals\n",
      "Lemma (mathematics)\n",
      "Big O notation\n",
      "Plus and minus signs\n",
      "Scientific notation\n",
      "Partially ordered set\n",
      "Sign (mathematics)\n",
      "Matrix addition\n",
      "Coproduct\n",
      "Knuth's up-arrow notation\n",
      "Negative number\n",
      "Multiplication sign\n",
      "Decimal separator\n",
      "Multiple (mathematics)\n",
      "Distributive property\n",
      "Division sign\n",
      "Long division\n",
      "Divisibility rule\n",
      "Binary number\n",
      "Egyptian fraction\n",
      "Lowest common denominator\n",
      "Normal number\n",
      "Imaginary unit\n",
      "Square (algebra)\n",
      "Quadratic function\n",
      "Gaussian elimination\n",
      "Total order\n",
      "Fibonacci number\n",
      "Identity (mathematics)\n",
      "Identity function\n",
      "Principle of explosion\n",
      "Zorn's lemma\n",
      "Bézout's identity\n",
      "Binary relation\n",
      "Bijection\n",
      "Morphism\n",
      "Functor\n",
      "Discrete logarithm\n",
      "Intuitionistic logic\n",
      "Transitive relation\n",
      "Simplex algorithm\n",
      "Assignment problem\n",
      "Dynamic programming\n",
      "Composite number\n",
      "AKS primality test\n",
      "2\n",
      "7\n",
      "Fermat number\n",
      "RSA (cryptosystem)\n",
      "Euler's totient function\n",
      "Semiprime\n",
      "Coprime integers\n",
      "Prime-counting function\n",
      "Gaussian integer\n",
      "Field extension\n",
      "Hash table\n",
      "Pseudoprime\n",
      "Deterministic algorithm\n",
      "Diffie–Hellman key exchange\n",
      "Jacobi symbol\n",
      "Highly composite number\n",
      "Partition (number theory)\n",
      "Bell number\n",
      "Lucky number\n",
      "Catalan number\n",
      "Lah number\n",
      "Sorting algorithm\n",
      "Divide-and-conquer algorithm\n",
      "Transpose\n",
      "Group representation\n",
      "Mathematical puzzle\n",
      "Hamming code\n",
      "Ultrafilter\n",
      "Lattice (order)\n",
      "Binomial coefficient\n",
      "Ultraproduct\n",
      "Cartesian product\n",
      "Sheffer stroke\n",
      "Universal quantification\n",
      "Existential quantification\n",
      "Atomic formula\n",
      "Tuple\n",
      "Well-ordering theorem\n",
      "Compactness theorem\n",
      "Higher-order logic\n",
      "Signature (logic)\n",
      "Quantifier elimination\n",
      "NP (complexity)\n",
      "P (complexity)\n",
      "Twelvefold way\n",
      "Partition of a set\n",
      "Inclusion–exclusion principle\n",
      "Multiset\n",
      "Interpretation (model theory)\n",
      "Stable theory\n",
      "Type (model theory)\n",
      "Elementary equivalence\n",
      "Saturated model\n",
      "Skolem normal form\n",
      "B-tree\n",
      "Directed graph\n",
      "Natural transformation\n",
      "Commutative diagram\n",
      "Opposite category\n",
      "Universal property\n",
      "Limit (category theory)\n",
      "Yoneda lemma\n",
      "Adjoint functors\n",
      "Cartesian closed category\n",
      "Concrete category\n",
      "Kan extension\n",
      "Initial and terminal objects\n",
      "Product (category theory)\n",
      "Pullback (category theory)\n",
      "Pushout (category theory)\n",
      "Comma category\n",
      "Subcategory\n",
      "Time hierarchy theorem\n",
      "Space hierarchy theorem\n",
      "Boolean satisfiability problem\n",
      "Graph isomorphism problem\n",
      "Graph isomorphism\n",
      "Time complexity\n",
      "Space complexity\n",
      "NP-hardness\n",
      "Error detection and correction\n",
      "Nondeterministic Turing machine\n",
      "Oracle machine\n",
      "Turing's proof\n",
      "Chomsky hierarchy\n",
      "Context-free grammar\n",
      "Gödel numbering\n",
      "Array data structure\n",
      "Free object\n",
      "Well-order\n",
      "Computable number\n",
      "−1\n",
      "Algebraic expression\n",
      "0\n",
      "Parity (mathematics)\n",
      "1\n",
      "9\n",
      "10\n",
      "Inequality (mathematics)\n",
      "Join and meet\n",
      "Cube root\n",
      "Cubic function\n",
      "Constant function\n",
      "Indexed family\n",
      "System of linear equations\n",
      "Search algorithm\n",
      "Associative array\n",
      "Forgetful functor\n",
      "Eigenvalues and eigenvectors\n",
      "Combination\n",
      "Hasse diagram\n",
      "Ramsey theory\n",
      "Graph (abstract data type)\n",
      "Degree matrix\n",
      "Laplacian matrix\n",
      "Clique problem\n",
      "Shortest path problem\n",
      "Flow network\n",
      "Tree (data structure)\n",
      "Bellman–Ford algorithm\n",
      "Breadth-first search\n",
      "Depth-first search\n",
      "Dijkstra's algorithm\n",
      "Floyd–Warshall algorithm\n",
      "Ford–Fulkerson algorithm\n",
      "Hopcroft–Karp algorithm\n",
      "Hungarian algorithm\n",
      "Kruskal's algorithm\n",
      "Prim's algorithm\n",
      "Push–relabel maximum flow algorithm\n",
      "Hypergraph\n",
      "Reflexive relation\n",
      "Antisymmetric relation\n",
      "Connex relation\n",
      "Least common multiple\n",
      "Duality (order theory)\n",
      "Preorder\n",
      "Well-founded relation\n",
      "Ideal (order theory)\n",
      "Resultant\n",
      "Binomial (polynomial)\n",
      "Monomial\n",
      "Linear function (calculus)\n",
      "Trinomial\n",
      "Dynamical systems theory\n",
      "Fractional factorial design\n",
      "One-factor-at-a-time method\n",
      "Latin square\n",
      "Meta-analysis\n",
      "Nonlinear programming\n",
      "Ellipsoid method\n",
      "LU decomposition\n",
      "Jacobi method\n",
      "Gauss–Seidel method\n",
      "Successive over-relaxation\n",
      "Turing reduction\n",
      "Binary search algorithm\n",
      "Maximum flow problem\n",
      "Bubble sort\n",
      "Brute-force search\n",
      "Karnaugh map\n",
      "Möbius inversion formula\n",
      "Möbius function\n",
      "Symmetric relation\n",
      "Dirichlet character\n",
      "Legendre symbol\n",
      "Telephone number\n",
      "Insertion sort\n",
      "Merge sort\n",
      "Monty Hall problem\n",
      "Reed–Solomon error correction\n",
      "Percent sign\n",
      "Quadratic residue\n",
      "Modus tollens\n",
      "Extended Euclidean algorithm\n",
      "Additive function\n",
      "Multiplicative function\n",
      "Magic square\n",
      "Linked list\n",
      "Bijection, injection and surjection\n",
      "Multigraph\n",
      "Stirling numbers of the second kind\n",
      "Comparability\n",
      "Covering relation\n",
      "Pointed set\n",
      "Monad (category theory)\n",
      "Fraction\n",
      "Binary search tree\n",
      "Stack (abstract data type)\n",
      "Heapsort\n",
      "Heap (data structure)\n",
      "Red–black tree\n",
      "Abstract data type\n",
      "Queue (abstract data type)\n",
      "Selection sort\n",
      "Shellsort\n",
      "String-searching algorithm\n",
      "Aliquot sum\n",
      "Many-one reduction\n",
      "Prenex normal form\n",
      "Triangular array\n",
      "Stirling number\n",
      "Radix sort\n",
      "Gnome sort\n",
      "Bucket sort\n",
      "Edge contraction\n",
      "Hom functor\n",
      "Graph homomorphism\n",
      "Post's theorem\n",
      "Snake lemma\n",
      "Five lemma\n",
      "Nine lemma\n",
      "Maximum cardinality matching\n",
      "Vertex cover\n",
      "Kőnig's theorem (graph theory)\n",
      "Max-flow min-cut theorem\n",
      "Stable marriage problem\n",
      "Component (graph theory)\n",
      "Minimum-cost flow problem\n",
      "Stable roommates problem\n",
      "Blossom algorithm\n",
      "Tutte–Berge formula\n",
      "Cache replacement policies\n"
     ]
    }
   ],
   "source": [
    "bc_init_1.print_community(i = 0)"
   ]
  },
  {
   "cell_type": "markdown",
   "metadata": {},
   "source": [
    "## Add 'Topology' and 'Set Theory' to the initialization"
   ]
  },
  {
   "cell_type": "code",
   "execution_count": 1096,
   "metadata": {
    "scrolled": true
   },
   "outputs": [],
   "source": [
    "bc_init_2 = BigCLAM(number_of_nodes = n_nodes, edges = edges, n_iter = None, idx = [2, 3, 5, 81, 41])\n",
    "bc_init_2.initialize()\n",
    "result_F_2 = bc_init_2.run_BigCLAM()\n",
    "label_2 = bc_init_2.community_class()"
   ]
  },
  {
   "cell_type": "markdown",
   "metadata": {},
   "source": [
    "### Nodes associated to 'Topology'"
   ]
  },
  {
   "cell_type": "code",
   "execution_count": 1097,
   "metadata": {
    "scrolled": false
   },
   "outputs": [
    {
     "name": "stdout",
     "output_type": "stream",
     "text": [
      "Mathematics\n",
      "Conjecture\n",
      "Recreational mathematics\n",
      "Open set\n",
      "Riemann surface\n",
      "Graph theory\n",
      "Topology\n",
      "Algebraic topology\n",
      "Poincaré conjecture\n",
      "Algebraic number field\n",
      "Homological algebra\n",
      "Topological space\n",
      "Metric space\n",
      "Sheaf (mathematics)\n",
      "Transfer principle\n",
      "Weierstrass function\n",
      "Real line\n",
      "Modularity theorem\n",
      "Tree (graph theory)\n",
      "Compact space\n",
      "Vector field\n",
      "Homotopy\n",
      "Winding number\n",
      "Mandelbrot set\n",
      "Critical point (mathematics)\n",
      "Zero of a function\n",
      "Fundamental group\n",
      "Functor\n",
      "Knot theory\n",
      "Mathematical puzzle\n",
      "Homology (mathematics)\n",
      "Elliptic function\n",
      "Graph coloring\n",
      "Natural transformation\n",
      "Adjacency matrix\n",
      "Connectivity (graph theory)\n",
      "Cantor set\n",
      "Julia set\n",
      "Lemniscate\n",
      "Banach space\n",
      "Seven Bridges of Königsberg\n",
      "Crossing number (graph theory)\n",
      "Degree matrix\n",
      "Laplacian matrix\n",
      "Degree (graph theory)\n",
      "Homeomorphism (graph theory)\n",
      "Kuratowski's theorem\n",
      "Flow network\n",
      "Matching (graph theory)\n",
      "Intersection graph\n",
      "Kruskal's algorithm\n",
      "Push–relabel maximum flow algorithm\n",
      "Eulerian path\n",
      "Snark (graph theory)\n",
      "Dynamical systems theory\n",
      "Limit cycle\n",
      "Bipartite graph\n",
      "Pointed set\n",
      "Cycle (graph theory)\n",
      "Path (graph theory)\n",
      "Transportation theory (mathematics)\n",
      "Edge contraction\n",
      "Line graph\n",
      "Three utilities problem\n",
      "Clique (graph theory)\n",
      "Handshaking lemma\n",
      "FKT algorithm\n",
      "Lovász conjecture\n",
      "Cage (graph theory)\n",
      "Kőnig's theorem (graph theory)\n",
      "Bridge (graph theory)\n",
      "BEST theorem\n",
      "Sierpiński triangle\n",
      "Max-flow min-cut theorem\n",
      "Quantum cohomology\n",
      "Nowhere-zero flow\n",
      "Tait's conjecture\n"
     ]
    }
   ],
   "source": [
    "bc_init_2.print_community(i = 3)"
   ]
  },
  {
   "cell_type": "markdown",
   "metadata": {},
   "source": [
    "### Nodes associated to 'Set Theory'"
   ]
  },
  {
   "cell_type": "code",
   "execution_count": 1098,
   "metadata": {
    "scrolled": false
   },
   "outputs": [
    {
     "name": "stdout",
     "output_type": "stream",
     "text": [
      "Mathematical proof\n",
      "Counting\n",
      "Foundations of mathematics\n",
      "Axiom\n",
      "Game theory\n",
      "Gödel's incompleteness theorems\n",
      "Theorem\n",
      "Proof by contradiction\n",
      "Operations research\n",
      "If and only if\n",
      "Axiomatic system\n",
      "Set theory\n",
      "Mathematical logic\n",
      "Discrete mathematics\n",
      "Set (mathematics)\n",
      "Model theory\n",
      "Theoretical computer science\n",
      "Category theory\n",
      "Computational complexity theory\n",
      "Turing machine\n",
      "Theory of computation\n",
      "Natural number\n",
      "Subset\n",
      "Cardinal number\n",
      "Aleph number\n",
      "Function (mathematics)\n",
      "Combinatorics\n",
      "Order theory\n",
      "Mathematical problem\n",
      "Algorithm\n",
      "Model of computation\n",
      "Formal language\n",
      "Computability theory\n",
      "Analysis of algorithms\n",
      "Probability\n",
      "Associative property\n",
      "Commutative property\n",
      "Boolean algebra\n",
      "Boolean algebra (structure)\n",
      "Element (mathematics)\n",
      "General topology\n",
      "Propositional calculus\n",
      "Lambda calculus\n",
      "Naive set theory\n",
      "Ordered pair\n",
      "Empty set\n",
      "Union (set theory)\n",
      "Intersection (set theory)\n",
      "Complement (set theory)\n",
      "Axiom of choice\n",
      "P versus NP problem\n",
      "Continuum hypothesis\n",
      "Mathematical induction\n",
      "Data structure\n",
      "Material conditional\n",
      "Contraposition\n",
      "Rule of inference\n",
      "Double counting (proof technique)\n",
      "Zermelo–Fraenkel set theory\n",
      "Bayes' theorem\n",
      "Function composition\n",
      "Cardinality\n",
      "Pigeonhole principle\n",
      "Enumerative combinatorics\n",
      "Ordinal number\n",
      "Equivalence relation\n",
      "Quantifier (logic)\n",
      "First-order logic\n",
      "Russell's paradox\n",
      "Peano axioms\n",
      "Gödel's completeness theorem\n",
      "Skolem's paradox\n",
      "Halting problem\n",
      "Entscheidungsproblem\n",
      "Forcing (mathematics)\n",
      "Church–Turing thesis\n",
      "New Foundations\n",
      "Cantor's theorem\n",
      "Löwenheim–Skolem theorem\n",
      "Well-formed formula\n",
      "Class (set theory)\n",
      "Type theory\n",
      "Theory (mathematical logic)\n",
      "Venn diagram\n",
      "Logical connective\n",
      "Truth table\n",
      "Power set\n",
      "Recursive set\n",
      "Domain of a function\n",
      "Structure (mathematical logic)\n",
      "Recursively enumerable set\n",
      "Decision problem\n",
      "Computable function\n",
      "Primitive recursive function\n",
      "Category (mathematics)\n",
      "Negation\n",
      "Axiom schema\n",
      "Modus ponens\n",
      "Isomorphism\n",
      "Prisoner's dilemma\n",
      "Zero-sum game\n",
      "Minimax\n",
      "Nash equilibrium\n",
      "Repeated game\n",
      "Common knowledge (logic)\n",
      "Perfect information\n",
      "Extensive-form game\n",
      "Information set (game theory)\n",
      "Strategy (game theory)\n",
      "Graph (discrete mathematics)\n",
      "Normal-form game\n",
      "Upper and lower bounds\n",
      "Strategic dominance\n",
      "Battle of the sexes (game theory)\n",
      "Arrow's impossibility theorem\n",
      "Banach–Tarski paradox\n",
      "Lemma (mathematics)\n",
      "Big O notation\n",
      "Partially ordered set\n",
      "Coproduct\n",
      "Partial function\n",
      "Distributive property\n",
      "Total order\n",
      "Identity (mathematics)\n",
      "Injective function\n",
      "Fixed point (mathematics)\n",
      "Identity function\n",
      "Cantor's diagonal argument\n",
      "Von Neumann universe\n",
      "Tarski's axioms\n",
      "Principle of explosion\n",
      "Arithmetical hierarchy\n",
      "Kolmogorov complexity\n",
      "Zorn's lemma\n",
      "Binary relation\n",
      "Bijection\n",
      "Morphism\n",
      "Intuitionistic logic\n",
      "Transitive relation\n",
      "Simplex algorithm\n",
      "Assignment problem\n",
      "Dynamic programming\n",
      "Hash table\n",
      "Deterministic algorithm\n",
      "Sorting algorithm\n",
      "Divide-and-conquer algorithm\n",
      "Ultrafilter\n",
      "Lattice (order)\n",
      "Ultraproduct\n",
      "Cartesian product\n",
      "Sheffer stroke\n",
      "Universal quantification\n",
      "Existential quantification\n",
      "Cardinality of the continuum\n",
      "Axiom schema of replacement\n",
      "Axiom of power set\n",
      "Atomic formula\n",
      "Axiom schema of specification\n",
      "Axiom of extensionality\n",
      "Axiom of infinity\n",
      "Axiom of pairing\n",
      "Axiom of regularity\n",
      "Axiom of union\n",
      "Tuple\n",
      "Transfinite induction\n",
      "Well-ordering theorem\n",
      "Compactness theorem\n",
      "Higher-order logic\n",
      "Signature (logic)\n",
      "Quantifier elimination\n",
      "Turing degree\n",
      "Combinatory logic\n",
      "NP (complexity)\n",
      "P (complexity)\n",
      "Quicksort\n",
      "Twelvefold way\n",
      "Partition of a set\n",
      "Universe (mathematics)\n",
      "Inclusion–exclusion principle\n",
      "Multiset\n",
      "Interpretation (model theory)\n",
      "Stable theory\n",
      "Type (model theory)\n",
      "Elementary equivalence\n",
      "Saturated model\n",
      "Skolem normal form\n",
      "Abstract machine\n",
      "B-tree\n",
      "Directed graph\n",
      "Opposite category\n",
      "Universal property\n",
      "Limit (category theory)\n",
      "Adjoint functors\n",
      "Domain theory\n",
      "Cartesian closed category\n",
      "Concrete category\n",
      "Kan extension\n",
      "Initial and terminal objects\n",
      "Product (category theory)\n",
      "Pullback (category theory)\n",
      "Pushout (category theory)\n",
      "Comma category\n",
      "Subcategory\n",
      "Time hierarchy theorem\n",
      "Space hierarchy theorem\n",
      "Boolean satisfiability problem\n",
      "Hamiltonian path problem\n",
      "Graph isomorphism problem\n",
      "Graph isomorphism\n",
      "Time complexity\n",
      "Space complexity\n",
      "Blum axioms\n",
      "Blum's speedup theorem\n",
      "NP-hardness\n",
      "Nondeterministic Turing machine\n",
      "Universal Turing machine\n",
      "Oracle machine\n",
      "Turing's proof\n",
      "Chomsky hierarchy\n",
      "Context-free grammar\n",
      "Rice's theorem\n",
      "Gödel numbering\n",
      "Array data structure\n",
      "Free object\n",
      "Well-order\n",
      "Computable number\n",
      "0\n",
      "Join and meet\n",
      "Indexed family\n",
      "Filter (mathematics)\n",
      "Search algorithm\n",
      "Surjective function\n",
      "Μ operator\n",
      "Associative array\n",
      "Forgetful functor\n",
      "Combination\n",
      "Hasse diagram\n",
      "Ramsey theory\n",
      "Chromatic polynomial\n",
      "Graph (abstract data type)\n",
      "Clique problem\n",
      "Shortest path problem\n",
      "Tree (data structure)\n",
      "Bellman–Ford algorithm\n",
      "Breadth-first search\n",
      "Depth-first search\n",
      "Dijkstra's algorithm\n",
      "Floyd–Warshall algorithm\n",
      "Hopcroft–Karp algorithm\n",
      "Prim's algorithm\n",
      "Hypergraph\n",
      "Reflexive relation\n",
      "Antisymmetric relation\n",
      "Connex relation\n",
      "Duality (order theory)\n",
      "Preorder\n",
      "Well-founded relation\n",
      "Ideal (order theory)\n",
      "Antichain\n",
      "Probability space\n",
      "Turing reduction\n",
      "Binary search algorithm\n",
      "Bubble sort\n",
      "Brute-force search\n",
      "Karnaugh map\n",
      "Symmetric relation\n",
      "Condorcet paradox\n",
      "Insertion sort\n",
      "Merge sort\n",
      "Monty Hall problem\n",
      "Modus tollens\n",
      "Combinatorial principles\n",
      "Partial permutation\n",
      "Linked list\n",
      "Bijection, injection and surjection\n",
      "Multigraph\n",
      "Stirling numbers of the second kind\n",
      "Rule of product\n",
      "Comparability\n",
      "Covering relation\n",
      "General recursive function\n",
      "Monad (category theory)\n",
      "Binary search tree\n",
      "Stack (abstract data type)\n",
      "Heapsort\n",
      "Heap (data structure)\n",
      "Red–black tree\n",
      "Abstract data type\n",
      "Queue (abstract data type)\n",
      "Selection sort\n",
      "Shellsort\n",
      "String-searching algorithm\n",
      "Many-one reduction\n",
      "Prenex normal form\n",
      "Triangular array\n",
      "Radix sort\n",
      "Gnome sort\n",
      "Bucket sort\n",
      "UTM theorem\n",
      "Porism\n",
      "Hosoya index\n",
      "Graph minor\n",
      "Hom functor\n",
      "Graph homomorphism\n",
      "Post's theorem\n",
      "Analytical hierarchy\n",
      "Edge cover\n",
      "Held–Karp algorithm\n",
      "Vertex cover\n",
      "Stable marriage problem\n",
      "Rule of sum\n",
      "Kolmogorov structure function\n",
      "Gap theorem\n",
      "Component (graph theory)\n",
      "Minimum-cost flow problem\n",
      "Stable roommates problem\n",
      "Blossom algorithm\n",
      "Tutte–Berge formula\n",
      "Cache replacement policies\n"
     ]
    }
   ],
   "source": [
    "bc_init_2.print_community(i = 4)"
   ]
  },
  {
   "cell_type": "markdown",
   "metadata": {},
   "source": [
    "## Add 'Applied Mathematics' and 'Statistics' to the initialization"
   ]
  },
  {
   "cell_type": "code",
   "execution_count": 1099,
   "metadata": {},
   "outputs": [],
   "source": [
    "bc_init_3 = BigCLAM(number_of_nodes = n_nodes, edges = edges, n_iter = None, idx = [2, 3, 5, 81, 41, 12, 13])\n",
    "bc_init_3.initialize()\n",
    "result_F_3 = bc_init_3.run_BigCLAM()\n",
    "label_3 = bc_init_3.community_class()"
   ]
  },
  {
   "cell_type": "markdown",
   "metadata": {},
   "source": [
    "### Nodes associated to 'Applied Mathematics'"
   ]
  },
  {
   "cell_type": "code",
   "execution_count": 1100,
   "metadata": {
    "scrolled": false
   },
   "outputs": [
    {
     "name": "stdout",
     "output_type": "stream",
     "text": [
      "Applied mathematics\n",
      "Game theory\n",
      "Pure mathematics\n",
      "Operations research\n",
      "Recreational mathematics\n",
      "Functional analysis\n",
      "Differential equation\n",
      "Dynamical system\n",
      "Chaos theory\n",
      "Mathematical optimization\n",
      "Control theory\n",
      "Numerical analysis\n",
      "Harmonic analysis\n",
      "Analysis of algorithms\n",
      "Exterior algebra\n",
      "Linear programming\n",
      "Euler method\n",
      "Numerical integration\n",
      "Differential operator\n",
      "Ordinary differential equation\n",
      "Partial differential equation\n",
      "Coding theory\n",
      "Tensor\n",
      "Numerical methods for ordinary differential equations\n",
      "Potential theory\n",
      "Social choice theory\n",
      "Mathematician\n",
      "Finite element method\n",
      "Nonlinear system\n",
      "Phase space\n",
      "Bifurcation theory\n",
      "Big O notation\n",
      "Parabolic partial differential equation\n",
      "Simplex algorithm\n",
      "Assignment problem\n",
      "Dynamic programming\n",
      "Hash table\n",
      "Divide-and-conquer algorithm\n",
      "Recurrence relation\n",
      "Hamming code\n",
      "Linear differential equation\n",
      "Quicksort\n",
      "Linearization\n",
      "Eigenvalues and eigenvectors\n",
      "Boundary value problem\n",
      "Shortest path problem\n",
      "Flow network\n",
      "Bellman–Ford algorithm\n",
      "Breadth-first search\n",
      "Dijkstra's algorithm\n",
      "Floyd–Warshall algorithm\n",
      "Ford–Fulkerson algorithm\n",
      "Hopcroft–Karp algorithm\n",
      "Hungarian algorithm\n",
      "Kruskal's algorithm\n",
      "Prim's algorithm\n",
      "Push–relabel maximum flow algorithm\n",
      "Butterfly effect\n",
      "Lyapunov exponent\n",
      "Stability theory\n",
      "Three-body problem\n",
      "Edge of chaos\n",
      "Homogeneous differential equation\n",
      "Initial condition\n",
      "Power series solution of differential equations\n",
      "Separation of variables\n",
      "Integrating factor\n",
      "Crank–Nicolson method\n",
      "Runge–Kutta methods\n",
      "Dynamical systems theory\n",
      "Linear dynamical system\n",
      "Flow (mathematics)\n",
      "Limit cycle\n",
      "Nonlinear programming\n",
      "Karush–Kuhn–Tucker conditions\n",
      "Ellipsoid method\n",
      "LU decomposition\n",
      "Jacobi method\n",
      "Gauss–Seidel method\n",
      "Successive over-relaxation\n",
      "Binary search algorithm\n",
      "Maximum flow problem\n",
      "Dirichlet problem\n",
      "Elliptic operator\n",
      "Hyperbolic partial differential equation\n",
      "Method of lines\n",
      "Elliptic partial differential equation\n",
      "Merge sort\n",
      "Shooting method\n",
      "Linked list\n",
      "Binary search tree\n",
      "Heap (data structure)\n",
      "Queue (abstract data type)\n",
      "Duality (optimization)\n",
      "Secant method\n",
      "Maximum cardinality matching\n",
      "Multi-commodity flow problem\n",
      "Max-flow min-cut theorem\n",
      "Circulation problem\n",
      "Multibody system\n",
      "Dynamic simulation\n"
     ]
    }
   ],
   "source": [
    "bc_init_3.print_community(i = 5)"
   ]
  },
  {
   "cell_type": "markdown",
   "metadata": {},
   "source": [
    "### Nodes associated to 'Statistics'"
   ]
  },
  {
   "cell_type": "code",
   "execution_count": 1053,
   "metadata": {
    "scrolled": false
   },
   "outputs": [
    {
     "name": "stdout",
     "output_type": "stream",
     "text": [
      "Statistics\n",
      "Information theory\n",
      "Data compression\n",
      "Entropy (information theory)\n",
      "Probability theory\n",
      "Design of experiments\n",
      "Observational study\n",
      "Statistical hypothesis testing\n",
      "Approximation theory\n",
      "Probability\n",
      "Fourier analysis\n",
      "Fourier transform\n",
      "Markov chain\n",
      "Probability distribution\n",
      "Random variable\n",
      "Stochastic process\n",
      "Pascal's triangle\n",
      "Bayes' theorem\n",
      "Asymptotic analysis\n",
      "Normal distribution\n",
      "Probability density function\n",
      "Central limit theorem\n",
      "Statistical population\n",
      "Mean\n",
      "Standard deviation\n",
      "Sampling (statistics)\n",
      "Correlation and dependence\n",
      "Regression analysis\n",
      "Interpolation\n",
      "Variance\n",
      "Type I and type II errors\n",
      "Confidence interval\n",
      "Randomized controlled trial\n",
      "Analysis of variance\n",
      "Expected value\n",
      "Linear regression\n",
      "Ordinary least squares\n",
      "Frequentist inference\n",
      "Credible interval\n",
      "Bayesian statistics\n",
      "Statistical significance\n",
      "P-value\n",
      "Bayesian inference\n",
      "Prior probability\n",
      "Chi-squared test\n",
      "Student's t-test\n",
      "Binomial distribution\n",
      "Survey methodology\n",
      "Arithmetic mean\n",
      "Geometric mean\n",
      "Harmonic mean\n",
      "Median\n",
      "Mode (statistics)\n",
      "Moment (mathematics)\n",
      "Skewness\n",
      "Kurtosis\n",
      "Standard error\n",
      "Factorial experiment\n",
      "Posterior probability\n",
      "Maximum a posteriori estimation\n",
      "Logistic regression\n",
      "Prisoner's dilemma\n",
      "Zero-sum game\n",
      "Minimax\n",
      "Nash equilibrium\n",
      "Repeated game\n",
      "Common knowledge (logic)\n",
      "Perfect information\n",
      "Extensive-form game\n",
      "Information set (game theory)\n",
      "Strategy (game theory)\n",
      "Normal-form game\n",
      "Strategic dominance\n",
      "Battle of the sexes (game theory)\n",
      "Logarithm\n",
      "Monte Carlo method\n",
      "Gaussian function\n",
      "Wiener process\n",
      "Dirac delta function\n",
      "Gamma function\n",
      "Law of large numbers\n",
      "Deterministic algorithm\n",
      "Bell number\n",
      "Convolution theorem\n",
      "Transpose\n",
      "Binomial coefficient\n",
      "Cauchy–Schwarz inequality\n",
      "Hölder's inequality\n",
      "Twelvefold way\n",
      "Discrete uniform distribution\n",
      "Probability mass function\n",
      "Heaviside step function\n",
      "Search algorithm\n",
      "Error function\n",
      "Kronecker delta\n",
      "Probability space\n",
      "Poisson distribution\n",
      "Cumulative distribution function\n",
      "Geometric distribution\n",
      "Exponential distribution\n",
      "Fractional factorial design\n",
      "One-factor-at-a-time method\n",
      "Latin square\n",
      "Meta-analysis\n",
      "Continuous uniform distribution\n",
      "Viterbi algorithm\n",
      "Moment-generating function\n",
      "Poisson point process\n",
      "Monty Hall problem\n",
      "Magic square\n",
      "Sample mean and covariance\n",
      "Stirling numbers of the second kind\n",
      "Step function\n",
      "Height\n",
      "Maximum likelihood estimation\n",
      "Rectangular function\n",
      "Jensen's inequality\n",
      "Data visualization\n",
      "Iterated integral\n",
      "Transportation theory (mathematics)\n",
      "Covariance\n",
      "Stable marriage problem\n",
      "Expectation–maximization algorithm\n",
      "Chi-square distribution\n",
      "Stable roommates problem\n"
     ]
    }
   ],
   "source": [
    "bc_init_3.print_community(i = 6)"
   ]
  },
  {
   "cell_type": "markdown",
   "metadata": {},
   "source": [
    "## Soft clustering of communities"
   ]
  },
  {
   "cell_type": "code",
   "execution_count": 1109,
   "metadata": {},
   "outputs": [
    {
     "name": "stdout",
     "output_type": "stream",
     "text": [
      "The topic Fermat's Last Theorem is likely to be in the community 1 and 0\n",
      "The topic Algebraic geometry is likely to be in the community 1 and 3\n",
      "The topic Linear equation is likely to be in the community 0 and 1\n",
      "The topic Functor is likely to be in the community 3 and 4\n"
     ]
    }
   ],
   "source": [
    "topics = [57, 84, 164, 604]\n",
    "for topic in topics:\n",
    "    row = bc_init_3.mat_F[topic]\n",
    "    scores = list(row)\n",
    "    scores.sort(reverse = True)\n",
    "    classification = []\n",
    "    for i in range(2):\n",
    "        idx = np.where(row == scores[i])[0]\n",
    "        classification.append(idx[0])\n",
    "    print('The topic {} is likely to be in the community {} and {}'.format(idx_to_topic[topic], classification[0], classification[1]))\n"
   ]
  }
 ],
 "metadata": {
  "kernelspec": {
   "display_name": "Python 3 (ipykernel)",
   "language": "python",
   "name": "python3"
  },
  "language_info": {
   "codemirror_mode": {
    "name": "ipython",
    "version": 3
   },
   "file_extension": ".py",
   "mimetype": "text/x-python",
   "name": "python",
   "nbconvert_exporter": "python",
   "pygments_lexer": "ipython3",
   "version": "3.9.18"
  }
 },
 "nbformat": 4,
 "nbformat_minor": 4
}
